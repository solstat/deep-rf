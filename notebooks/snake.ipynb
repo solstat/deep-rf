{
 "cells": [
  {
   "cell_type": "markdown",
   "metadata": {},
   "source": [
    "# Training an AI to play snake with deep reinforcement learning\n",
    "\n",
    "This notebook documents our experience learning how to develop an AI that plays Snake with deep reinforcement learning.  \n",
    "\n",
    "We used Tensorflow as our deep learning toolbox.  For those new to Tensorflow, we recommend first completing their [tutorial](https://www.tensorflow.org/tutorials/mnist/beginners/)."
   ]
  },
  {
   "cell_type": "markdown",
   "metadata": {
    "collapsed": true
   },
   "source": [
    "# The snake game\n",
    "\n",
    "### Description\n",
    "\n",
    "For those unfamiliar with the snake game,\n",
    "```\n",
    "$ python /snake/play_ascii_snake.py 10 10\n",
    "```\n",
    "will load up an example of the game for a 10 x 10 board.  Use the W-A-S-D keys to move North-West-South-East (in that order)."
   ]
  },
  {
   "cell_type": "markdown",
   "metadata": {},
   "source": [
    "![example](ascii-snake.gif)"
   ]
  },
  {
   "cell_type": "markdown",
   "metadata": {},
   "source": [
    "In short, you play as a **snake** (represented by `O`) and move along the board to eat **pellets** (represented by `*`).  \n",
    "\n",
    "**The snake always moves in the direction it faces (at a constant rate) until a command is given forcing it to turn.**  For example, the game begins with the snake moving North.  Then the `A` or `D` commands would cause the snake to move West or East, while the `W` command would be ignored since the snake is already moving North.  **The snake cannot make 180-degree turns,** meaning the `S` command to move South would also be ignored.\n",
    "\n",
    "**The snake consumes the pellet when it collides with it.  When this happens, the snake grows in length by 1 and the Score is increased by 1.**  Specifically, when the snake grows, an additional `O` character replaces the pellet; as the snake moves away from that coordinate, the `O` is appended to the end of the snake body.\n",
    "\n",
    "**The game ends when the snake collides with a wall** (represented by `|` and `-`) **or with itself.**"
   ]
  },
  {
   "cell_type": "markdown",
   "metadata": {},
   "source": [
    "### Motivation\n",
    "\n",
    "We chose the snake game for several reasons.  It's simple to code up a working version, and most people are familiar with how the game works.  \n",
    "\n",
    "The game also allowed us to explore a couple interesting questions:\n",
    "\n",
    "- Will the AI have difficulty learning as a result of the snake beginning as a single point and growing as the game progresses?\n",
    "\n",
    "- How well will the AI learn if we don't tell it at the start of the game which point is the snake and which point is the pellet?\n",
    "\n",
    "- The game can be described as having only two actions (Turn Left and Turn Right) among four buttons.  Can the AI learn that two of the available actions at any point in the game are ignored?\n",
    "\n",
    "Of course, there were also standard questions we wanted to answer:\n",
    "\n",
    "- How much is the AI impacted by the size of the game board?\n",
    "\n",
    "- How does performance differ between different network structures?"
   ]
  },
  {
   "cell_type": "markdown",
   "metadata": {},
   "source": [
    "# Q-learning and deep Q-learning"
   ]
  },
  {
   "cell_type": "markdown",
   "metadata": {},
   "source": [
    "For those new to Q-learning (or deep Q-learning), we highly recommend the [blog post](https://www.nervanasys.com/demystifying-deep-reinforcement-learning/) by Tambet Matiisen. It does a very good job of explaining the technique, so we'll avoid repeating anything here.  From here on, we'll assume readers are familiar with the terminology presented in the linked blog post."
   ]
  },
  {
   "cell_type": "markdown",
   "metadata": {},
   "source": [
    "# Network structure\n",
    "\n",
    "### No growth"
   ]
  },
  {
   "cell_type": "code",
   "execution_count": null,
   "metadata": {
    "collapsed": true
   },
   "outputs": [],
   "source": []
  }
 ],
 "metadata": {
  "kernelspec": {
   "display_name": "Python 2",
   "language": "python",
   "name": "python2"
  },
  "language_info": {
   "codemirror_mode": {
    "name": "ipython",
    "version": 2
   },
   "file_extension": ".py",
   "mimetype": "text/x-python",
   "name": "python",
   "nbconvert_exporter": "python",
   "pygments_lexer": "ipython2",
   "version": "2.7.11"
  }
 },
 "nbformat": 4,
 "nbformat_minor": 0
}
