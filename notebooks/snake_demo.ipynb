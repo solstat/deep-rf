{
 "cells": [
  {
   "cell_type": "markdown",
   "metadata": {},
   "source": [
    "## Snake Demo"
   ]
  },
  {
   "cell_type": "code",
   "execution_count": null,
   "metadata": {
    "collapsed": true
   },
   "outputs": [],
   "source": [
    "\"\"\"\n",
    "Test\n",
    "\"\"\"\n",
    "\n",
    "import numpy as np\n",
    "import snake.snake_game as snake\n",
    "import deep_rf as rf"
   ]
  },
  {
   "cell_type": "code",
   "execution_count": null,
   "metadata": {
    "collapsed": true
   },
   "outputs": [],
   "source": [
    "frame_height = 4\n",
    "frame_width = 4\n",
    "num_frames = 2\n",
    "\n",
    "my_game = snake.SnakeGame(board_height=frame_height, board_width=frame_width)\n",
    "my_q_graph = rf.QGraph.default_q_graph(my_game, num_frames=num_frames)"
   ]
  },
  {
   "cell_type": "code",
   "execution_count": null,
   "metadata": {
    "collapsed": true
   },
   "outputs": [],
   "source": [
    "def my_reward(params):\n",
    "    return params['new_score'] - params['last_score'] + \\\n",
    "           (-1.0 if params['is_game_over'] else 0.0) - .001\n",
    "\n",
    "my_rf = rf.DeepRFLearner(my_game, my_q_graph, my_reward)"
   ]
  },
  {
   "cell_type": "code",
   "execution_count": null,
   "metadata": {
    "collapsed": true
   },
   "outputs": [],
   "source": [
    "def play_one_game(deep_rf_learner):\n",
    "\n",
    "    game = snake.SnakeGame(frame_height, frame_width)\n",
    "    first_frame = game.get_frame()\n",
    "    state_padding = [np.zeros(first_frame.shape) for _ in\n",
    "                     range(num_frames - 1)]\n",
    "    current_state = rf.State(frames_tuple=tuple(state_padding) + (first_frame,))\n",
    "\n",
    "    def print_frame_and_get_action(state):\n",
    "        print \"\\n\" * 20 + str(game)\n",
    "        print \"\\nQ-val with actions: \" + \\\n",
    "            str(dict(zip(game.action_list,\n",
    "                np.round(deep_rf_learner.evaluate_q_function(state=state), 3))))\n",
    "        action = deep_rf_learner.choose_action(state=state)\n",
    "        print \"Next Action: \" + action\n",
    "        return action\n",
    "\n",
    "    action = print_frame_and_get_action(current_state)\n",
    "\n",
    "    while True:\n",
    "        r = raw_input(\"Press q to quit or Press r to reset: \")\n",
    "        if r == 'q':\n",
    "            break\n",
    "        elif r == 'r' or game.is_game_over():\n",
    "            return play_one_game(deep_rf_learner)\n",
    "        else:\n",
    "            game.do_action(action)\n",
    "            current_state = current_state.new_state_from_old(game.get_frame())\n",
    "            action = print_frame_and_get_action(current_state)\n",
    "    return"
   ]
  },
  {
   "cell_type": "markdown",
   "metadata": {},
   "source": [
    "## MAIN SCRIPT"
   ]
  },
  {
   "cell_type": "code",
   "execution_count": null,
   "metadata": {
    "collapsed": true
   },
   "outputs": [],
   "source": [
    "while True:\n",
    "    my_rf.learn_q_function(num_iterations=50,\n",
    "                           batch_size=1000,\n",
    "                           num_training_steps=100)\n",
    "    play_one_game(my_rf)"
   ]
  },
  {
   "cell_type": "code",
   "execution_count": null,
   "metadata": {
    "collapsed": true
   },
   "outputs": [],
   "source": []
  }
 ],
 "metadata": {
  "kernelspec": {
   "display_name": "Python 2",
   "language": "python",
   "name": "python2"
  },
  "language_info": {
   "codemirror_mode": {
    "name": "ipython",
    "version": 2
   },
   "file_extension": ".py",
   "mimetype": "text/x-python",
   "name": "python",
   "nbconvert_exporter": "python",
   "pygments_lexer": "ipython2",
   "version": "2.7.11"
  }
 },
 "nbformat": 4,
 "nbformat_minor": 0
}
